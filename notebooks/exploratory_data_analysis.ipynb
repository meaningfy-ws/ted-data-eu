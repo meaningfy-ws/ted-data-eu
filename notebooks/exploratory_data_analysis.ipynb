{
 "cells": [
  {
   "cell_type": "markdown",
   "source": [
    "**This notebook have goal to create an inventory of competency questions & associated SPARQL queries based on EPO v3.0.0.**"
   ],
   "metadata": {
    "collapsed": false,
    "pycharm": {
     "name": "#%% md\n"
    }
   }
  },
  {
   "cell_type": "code",
   "execution_count": null,
   "outputs": [],
   "source": [
    "from ted_sws import config\n",
    "from ted_sws.data_manager.adapters.triple_store import AllegroGraphTripleStore\n",
    "from pathlib import Path\n",
    "\n",
    "TDA_REPOSITORY_NAME = 'tda_repository'\n",
    "QUERIES_FOLDER_PATH = './../resources/sparql_queries'\n",
    "QUERY_FILE_EXTENSION = '.rq'\n",
    "\n",
    "notebook_path = Path.cwd()\n",
    "\n",
    "query_dict = {}\n",
    "for query_file_path in notebook_path.glob(f'{QUERIES_FOLDER_PATH}/*{QUERY_FILE_EXTENSION}'):\n",
    "    query_dict[query_file_path.stem] = str(query_file_path)\n",
    "\n",
    "agraph_ts = AllegroGraphTripleStore(host=config.ALLEGRO_HOST,\n",
    "                                    user=config.AGRAPH_SUPER_USER,\n",
    "                                    password=config.AGRAPH_SUPER_PASSWORD,\n",
    "                                    default_repository=TDA_REPOSITORY_NAME)\n",
    "\n",
    "agraph_repositories = agraph_ts.list_repositories()\n",
    "assert TDA_REPOSITORY_NAME in agraph_repositories, f'{TDA_REPOSITORY_NAME} repository does not exist'\n",
    "\n",
    "tda_repo_sparql_store_endpoint = agraph_ts.get_sparql_triple_store_endpoint(TDA_REPOSITORY_NAME)"
   ],
   "metadata": {
    "collapsed": false,
    "pycharm": {
     "name": "#%%\n",
     "is_executing": true
    }
   }
  },
  {
   "cell_type": "markdown",
   "source": [
    "|User Stories| Competency Questions                                                                                                |\n",
    "|------------|---------------------------------------------------------------------------------------------------------------------|\n",
    "|As a citizen, I want to know the number of lots that use EU funds, so I can compare the quantity of EU funds used between countries.| - How many Lots are using EU funds per Buyer country? <br /> - How many Lots are using EU funds per Winner country? |"
   ],
   "metadata": {
    "collapsed": false,
    "pycharm": {
     "name": "#%% md\n"
    }
   }
  },
  {
   "cell_type": "markdown",
   "source": [
    "Q1. How many Lots are using EU funds per Buyer country?"
   ],
   "metadata": {
    "collapsed": false,
    "pycharm": {
     "name": "#%% md\n"
    }
   }
  },
  {
   "cell_type": "code",
   "execution_count": null,
   "metadata": {
    "collapsed": true,
    "pycharm": {
     "name": "#%%\n",
     "is_executing": true
    }
   },
   "outputs": [],
   "source": [
    "sparql_query_result = tda_repo_sparql_store_endpoint.with_query_from_file(query_dict['q1']).fetch_tabular()\n",
    "print(sparql_query_result)"
   ]
  },
  {
   "cell_type": "markdown",
   "source": [
    "Q2. How many Lots are using EU funds per Winner country"
   ],
   "metadata": {
    "collapsed": false,
    "pycharm": {
     "name": "#%% md\n"
    }
   }
  },
  {
   "cell_type": "markdown",
   "source": [
    "|User Stories| Competency Questions                                                                                                                                                                                                    |\n",
    "|------------|-------------------------------------------------------------------------------------------------------------------------------------------------------------------------------------------------------------------------|\n",
    "|As citizen, I want to know the quantity of winners by country, so I can know how much public money is spent per country.| - How many Winners and contract value per country of the Buyer for a given period of time and CPV code? <br /> - How many Winners and contract value per country of the Winner for a given period of time and CPV code? |"
   ],
   "metadata": {
    "collapsed": false,
    "pycharm": {
     "name": "#%% md\n"
    }
   }
  },
  {
   "cell_type": "markdown",
   "source": [
    "Q4. How many Winners and contract value per country of the Winner for a given period of time and CPV code?"
   ],
   "metadata": {
    "collapsed": false,
    "pycharm": {
     "name": "#%% md\n"
    }
   }
  },
  {
   "cell_type": "code",
   "execution_count": null,
   "outputs": [],
   "source": [
    "sparql_query_result = tda_repo_sparql_store_endpoint.with_query_from_file(query_dict['q4']).fetch_tabular()\n",
    "print(sparql_query_result)"
   ],
   "metadata": {
    "collapsed": false,
    "pycharm": {
     "name": "#%%\n",
     "is_executing": true
    }
   }
  },
  {
   "cell_type": "markdown",
   "source": [
    "|User Stories| Competency Questions                                                                                                                                                                                                    |\n",
    "|------------|-------------------------------------------------------------------------------------------------------------------------------------------------------------------------------------------------------------------------|\n",
    "|As a journalist, I want to know the number of organisations that have published contract notices, so I can make an analysis comparing the total number of organisations publishing contract notices and contract award notices.| - How many Organisations published ContractNotices? <br /> How many Organisations published ContractAwardNotices? |"
   ],
   "metadata": {
    "collapsed": false,
    "pycharm": {
     "name": "#%% md\n"
    }
   }
  },
  {
   "cell_type": "markdown",
   "source": [
    "Q5. How many Organisations published ContractNotices?"
   ],
   "metadata": {
    "collapsed": false,
    "pycharm": {
     "name": "#%% md\n"
    }
   }
  },
  {
   "cell_type": "code",
   "execution_count": null,
   "outputs": [],
   "source": [
    "sparql_query_result = tda_repo_sparql_store_endpoint.with_query_from_file(query_dict['q5']).fetch_tabular()\n",
    "print(sparql_query_result)"
   ],
   "metadata": {
    "collapsed": false,
    "pycharm": {
     "name": "#%%\n",
     "is_executing": true
    }
   }
  },
  {
   "cell_type": "markdown",
   "source": [
    "Q6. How many Organisations published ContractAwardNotices?"
   ],
   "metadata": {
    "collapsed": false,
    "pycharm": {
     "name": "#%% md\n"
    }
   }
  },
  {
   "cell_type": "code",
   "execution_count": null,
   "outputs": [],
   "source": [
    "sparql_query_result = tda_repo_sparql_store_endpoint.with_query_from_file(query_dict['q6']).fetch_tabular()\n",
    "print(sparql_query_result)"
   ],
   "metadata": {
    "collapsed": false,
    "pycharm": {
     "name": "#%%\n",
     "is_executing": true
    }
   }
  },
  {
   "cell_type": "markdown",
   "source": [
    "|User Stories| Competency Questions                                                                                                                                                                                                    |\n",
    "|------------|-------------------------------------------------------------------------------------------------------------------------------------------------------------------------------------------------------------------------|\n",
    "|As an Economic Operator, I want to know the procedures that are not using framework agreement technique, so I can prepare a better tender.| - Which are the Procedures that are not using FrameworkAgreementTechnique? |"
   ],
   "metadata": {
    "collapsed": false,
    "pycharm": {
     "name": "#%% md\n"
    }
   }
  },
  {
   "cell_type": "markdown",
   "source": [
    "Q7. Which are the Procedures that are not using FrameworkAgreementTechnique?"
   ],
   "metadata": {
    "collapsed": false,
    "pycharm": {
     "name": "#%% md\n"
    }
   }
  },
  {
   "cell_type": "code",
   "execution_count": null,
   "outputs": [],
   "source": [
    "sparql_query_result = tda_repo_sparql_store_endpoint.with_query_from_file(query_dict['q7']).fetch_tabular()\n",
    "print(sparql_query_result)"
   ],
   "metadata": {
    "collapsed": false,
    "pycharm": {
     "name": "#%%\n",
     "is_executing": true
    }
   }
  },
  {
   "cell_type": "markdown",
   "source": [
    "|User Stories| Competency Questions                                                                                                                                                                                                                                                                                                                                                       |\n",
    "|------------|----------------------------------------------------------------------------------------------------------------------------------------------------------------------------------------------------------------------------------------------------------------------------------------------------------------------------------------------------------------------------|\n",
    "|As a Contracting Authority, I want to know per country, region of the Central Purchasing Body how many lots of a procedure received only one tender as well as whether they use joint procurement, they have been accelerated, the procedure type, and their CPV, so I can prepare the annual report.| - How many lots of a procedure received only one tender Lot? <br /> - How many lots of a procedure received only one tender Lot for a given month (publication date of the contract notice) of a year? <br /> - Which is the country, region, CPB,  joint procurement, main CPV, accelerated indicator, and procedure type of lots that have received only one tender Lot? |"
   ],
   "metadata": {
    "collapsed": false,
    "pycharm": {
     "name": "#%% md\n"
    }
   }
  },
  {
   "cell_type": "markdown",
   "source": [
    "Q10. How many lots of a procedure received only one tender Lot for a given month (publication date of the contract notice) of a year?"
   ],
   "metadata": {
    "collapsed": false,
    "pycharm": {
     "name": "#%% md\n"
    }
   }
  },
  {
   "cell_type": "code",
   "execution_count": 6,
   "outputs": [],
   "source": [],
   "metadata": {
    "collapsed": false,
    "pycharm": {
     "name": "#%%\n"
    }
   }
  }
 ],
 "metadata": {
  "kernelspec": {
   "display_name": "Python 3",
   "language": "python",
   "name": "python3"
  },
  "language_info": {
   "codemirror_mode": {
    "name": "ipython",
    "version": 2
   },
   "file_extension": ".py",
   "mimetype": "text/x-python",
   "name": "python",
   "nbconvert_exporter": "python",
   "pygments_lexer": "ipython2",
   "version": "2.7.6"
  }
 },
 "nbformat": 4,
 "nbformat_minor": 0
}