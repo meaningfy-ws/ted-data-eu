{
 "cells": [
  {
   "cell_type": "markdown",
   "source": [
    "\n",
    "#### This python notebook is used to update Kibana view with static lookups for CPV and Country fields.\n",
    "Example:\n",
    "    CPV: 03000000 -> 03000000 - Agricultural, farming, fishing, forestry and related products\n",
    "    Country: BE -> BE - Belgium"
   ],
   "metadata": {
    "collapsed": false
   }
  },
  {
   "cell_type": "code",
   "execution_count": 11,
   "outputs": [],
   "source": [
    "import json\n",
    "import requests\n",
    "\n",
    "from requests.auth import HTTPBasicAuth\n",
    "\n",
    "from ted_data_eu import config\n",
    "from ted_data_eu.services.etl_pipelines.ted_data_etl_pipeline import TED_DATA_ETL_PIPELINE_NAME\n",
    "\n",
    "INDEX = TED_DATA_ETL_PIPELINE_NAME\n",
    "KIBANA_URL = 'ttps://kibana.ted-data.eu'\n",
    "KIBANA_VIEW_NAME = 'ted_data'\n",
    "\n",
    "HEADERS = {'Content-type': 'application/json', 'kbn-xsrf': 'kibana'}\n",
    "HTTP_AUTH = HTTPBasicAuth(config.ELASTIC_USER, config.ELASTIC_PASSWORD)"
   ],
   "metadata": {
    "collapsed": false,
    "ExecuteTime": {
     "start_time": "2023-04-18T12:52:28.646618Z",
     "end_time": "2023-04-18T12:52:28.672314Z"
    }
   }
  },
  {
   "cell_type": "code",
   "execution_count": 12,
   "outputs": [
    {
     "data": {
      "text/plain": "'1cf52c93-78e0-4dbd-a5b3-2cdb1f391279'"
     },
     "execution_count": 12,
     "metadata": {},
     "output_type": "execute_result"
    }
   ],
   "source": [
    "def get_kibana_view_id_by_name(view_name: str) -> str:\n",
    "    \"\"\"\n",
    "    Get Kibana view id by name\n",
    "    :param view_name: name of the view\n",
    "    :return: id of the view\n",
    "    \"\"\"\n",
    "    response = requests.get(f\"{KIBANA_URL}/api/data_views\",\n",
    "                            headers=HEADERS,\n",
    "                            auth=HTTP_AUTH,\n",
    "                            )\n",
    "    response.raise_for_status()\n",
    "    data_views = response.json()['data_view']\n",
    "    for data_view in data_views:\n",
    "        if data_view['title'] == view_name:\n",
    "            return data_view['id']\n",
    "    raise Exception(f\"Could not find data view with name {view_name}\")\n",
    "\n",
    "\n",
    "DATA_VIEW_ID = get_kibana_view_id_by_name(KIBANA_VIEW_NAME)\n",
    "DATA_VIEW_ID"
   ],
   "metadata": {
    "collapsed": false,
    "ExecuteTime": {
     "start_time": "2023-04-18T12:52:28.652622Z",
     "end_time": "2023-04-18T12:52:29.032161Z"
    }
   }
  },
  {
   "cell_type": "code",
   "execution_count": 13,
   "outputs": [],
   "source": [
    "from typing import List\n",
    "\n",
    "\n",
    "def update_field_with_static_lookup(field_name: str, field_keys: List[str], key_values: List[str]):\n",
    "    \"\"\"\n",
    "    Updates fields in Kibana view with static lookups\n",
    "    :param field_name: name of the field to update\n",
    "    :param field_keys: list of keys to use in the static lookup\n",
    "    :param key_values: list of values to use in the static lookup\n",
    "    :return: None\n",
    "    \"\"\"\n",
    "    kibana_request_structure = {\n",
    "        \"fields\": {\n",
    "            field_name: {\n",
    "                \"format\": {\n",
    "                    \"id\": \"static_lookup\",\n",
    "                    \"params\": {\n",
    "                        \"lookupEntries\": [{\"key\": key, \"value\": value} for key, value in zip(field_keys, key_values)],\n",
    "                        \"unknownKeyValue\": None\n",
    "                    }\n",
    "                }\n",
    "            }\n",
    "        }\n",
    "    }\n",
    "    response = requests.post(url=f\"{KIBANA_URL}/api/data_views/data_view/{DATA_VIEW_ID}/fields\",\n",
    "                             headers=HEADERS,\n",
    "                             auth=HTTP_AUTH,\n",
    "                             data=json.dumps(kibana_request_structure))\n",
    "    response.raise_for_status()\n",
    "    print(f\"Updated field {field_name} with static lookup done successfully\")"
   ],
   "metadata": {
    "collapsed": false,
    "ExecuteTime": {
     "start_time": "2023-04-18T12:52:29.031166Z",
     "end_time": "2023-04-18T12:52:29.040172Z"
    }
   }
  },
  {
   "cell_type": "markdown",
   "source": [
    "Update CPV Fields with static lookup"
   ],
   "metadata": {
    "collapsed": false
   }
  },
  {
   "cell_type": "code",
   "execution_count": 14,
   "outputs": [
    {
     "name": "stdout",
     "output_type": "stream",
     "text": [
      "Updated field main_cpvs.keyword with static lookup done successfully\n",
      "Updated field cpv0.keyword with static lookup done successfully\n",
      "Updated field cpv1.keyword with static lookup done successfully\n",
      "Updated field cpv2.keyword with static lookup done successfully\n",
      "Updated field cpv3.keyword with static lookup done successfully\n",
      "Updated field cpv4.keyword with static lookup done successfully\n",
      "Updated field cpv_parent.keyword with static lookup done successfully\n"
     ]
    }
   ],
   "source": [
    "from ted_data_eu.services.etl_pipelines.ted_data_etl_pipeline import CPV_RANK_0, CPV_RANK_1, CPV_RANK_2, CPV_RANK_3, \\\n",
    "    CPV_RANK_4, CPV_PARENT, LOT_CPV_COLUMN_NAME\n",
    "from ted_data_eu.adapters.cpv_processor import CPVProcessor\n",
    "\n",
    "FIELDS_WITH_CPV = [LOT_CPV_COLUMN_NAME, CPV_RANK_0, CPV_RANK_1, CPV_RANK_2, CPV_RANK_3, CPV_RANK_4, CPV_PARENT]\n",
    "FIELDS_WITH_CPV = [f\"{field}.keyword\" for field in FIELDS_WITH_CPV]\n",
    "\n",
    "cpv_processor = CPVProcessor()\n",
    "\n",
    "for field_name in FIELDS_WITH_CPV:\n",
    "    update_field_with_static_lookup(field_name, cpv_processor.get_all_cpvs_name_as_list(),\n",
    "                                    cpv_processor.get_all_cpvs_label_as_list())"
   ],
   "metadata": {
    "collapsed": false,
    "ExecuteTime": {
     "start_time": "2023-04-18T12:52:29.040172Z",
     "end_time": "2023-04-18T12:52:53.444196Z"
    }
   }
  },
  {
   "cell_type": "markdown",
   "source": [
    "Update Country field with static lookup"
   ],
   "metadata": {
    "collapsed": false
   }
  },
  {
   "cell_type": "code",
   "execution_count": 15,
   "outputs": [
    {
     "name": "stdout",
     "output_type": "stream",
     "text": [
      "Updated field lots_nuts_0.keyword with static lookup done successfully\n"
     ]
    }
   ],
   "source": [
    "from ted_data_eu.services.etl_pipelines.ted_data_etl_pipeline import LOT_NUTS_0\n",
    "import pycountry\n",
    "\n",
    "country_field_name = f\"{LOT_NUTS_0}.keyword\"\n",
    "country_codes = [country.alpha_2 for country in pycountry.countries]\n",
    "country_names = [country.name for country in pycountry.countries]\n",
    "update_field_with_static_lookup(country_field_name, country_codes, country_names)"
   ],
   "metadata": {
    "collapsed": false,
    "ExecuteTime": {
     "start_time": "2023-04-18T12:52:53.443201Z",
     "end_time": "2023-04-18T12:52:56.537297Z"
    }
   }
  }
 ],
 "metadata": {
  "kernelspec": {
   "display_name": "Python 3",
   "language": "python",
   "name": "python3"
  },
  "language_info": {
   "codemirror_mode": {
    "name": "ipython",
    "version": 2
   },
   "file_extension": ".py",
   "mimetype": "text/x-python",
   "name": "python",
   "nbconvert_exporter": "python",
   "pygments_lexer": "ipython2",
   "version": "2.7.6"
  }
 },
 "nbformat": 4,
 "nbformat_minor": 0
}
