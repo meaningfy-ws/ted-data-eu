{
 "cells": [
  {
   "cell_type": "code",
   "execution_count": 1,
   "metadata": {
    "collapsed": true
   },
   "outputs": [],
   "source": [
    "import pathlib\n",
    "import pandas as pd\n",
    "import numpy as np\n",
    "import ijson\n",
    "from typing import List\n",
    "from concurrent.futures import ProcessPoolExecutor\n",
    "from resources import OPEN_TENDER_JSONS, OPEN_TENDER_EXTRACTION_OUTPUT"
   ]
  },
  {
   "cell_type": "code",
   "execution_count": 2,
   "outputs": [],
   "source": [
    "OPEN_TENDER_JSONS_PATHS = [file_path for file_path in OPEN_TENDER_JSONS.iterdir() if\n",
    "                           file_path.is_file() and file_path.name.endswith(\".json\")]"
   ],
   "metadata": {
    "collapsed": false
   }
  },
  {
   "cell_type": "code",
   "execution_count": 3,
   "outputs": [],
   "source": [
    "def flatten_data(y, prefix=\"\"):\n",
    "    out = {}\n",
    "\n",
    "    def flatten(x, name=''):\n",
    "        if type(x) is dict:\n",
    "            for a in x:\n",
    "                flatten(x[a], name + a + '.')\n",
    "        else:\n",
    "            out[name[:-1]] = x\n",
    "\n",
    "    flatten(y,prefix)\n",
    "    return out"
   ],
   "metadata": {
    "collapsed": false
   }
  },
  {
   "cell_type": "code",
   "execution_count": 4,
   "outputs": [],
   "source": [
    "def merge_results(folder_path: pathlib.Path, result_file_name: str, src_name_prefix: str = \"\",\n",
    "                  src_name_suffix: str = \"\", remove_src_files: bool = True):\n",
    "    selected_paths = [file_path for file_path in folder_path.iterdir()\n",
    "                      if file_path.is_file() and file_path.name.endswith(src_name_suffix) and file_path.name.startswith(\n",
    "            src_name_prefix)]\n",
    "\n",
    "    merged_df = pd.concat([pd.read_parquet(file_path) for file_path in selected_paths], axis=0,\n",
    "                          ignore_index=True)\n",
    "    merged_df.reset_index(drop=True,inplace=True)\n",
    "    merged_df.to_parquet(folder_path / result_file_name, index=None)\n",
    "    del merged_df\n",
    "    if remove_src_files:\n",
    "        for file_path in selected_paths:\n",
    "            file_path.unlink()"
   ],
   "metadata": {
    "collapsed": false
   }
  },
  {
   "cell_type": "code",
   "execution_count": 5,
   "outputs": [],
   "source": [
    "def extract_fields_from_file(json_file_path: pathlib.Path):\n",
    "    json_file = json_file_path.open(mode=\"rb\")\n",
    "    documents = ijson.items(json_file, 'item.lots.item.bids.item.bidders.item')\n",
    "    rows = [flatten_data(document,\"bidder.\") for document in documents]\n",
    "    json_file.close()\n",
    "    result_path = OPEN_TENDER_EXTRACTION_OUTPUT / f\"{json_file_path.stem}.parquet\"\n",
    "    result_df = pd.DataFrame(rows)\n",
    "    result_df.to_parquet(result_path)\n",
    "    del result_df\n"
   ],
   "metadata": {
    "collapsed": false
   }
  },
  {
   "cell_type": "code",
   "execution_count": 6,
   "outputs": [],
   "source": [
    "def extract_fields_from_multiple_files(json_file_paths: List[pathlib.Path]):\n",
    "    with ProcessPoolExecutor(max_workers=24) as executor:\n",
    "        futures = [executor.submit(extract_fields_from_file, json_file_path) for json_file_path in json_file_paths]\n",
    "        for future in futures:\n",
    "            future.result()"
   ],
   "metadata": {
    "collapsed": false
   }
  },
  {
   "cell_type": "code",
   "execution_count": 7,
   "outputs": [
    {
     "name": "stdout",
     "output_type": "stream",
     "text": [
      "CPU times: user 26.2 ms, sys: 48.3 ms, total: 74.4 ms\n",
      "Wall time: 2min 37s\n"
     ]
    }
   ],
   "source": [
    "%%time\n",
    "extract_fields_from_multiple_files(OPEN_TENDER_JSONS_PATHS)"
   ],
   "metadata": {
    "collapsed": false
   }
  },
  {
   "cell_type": "code",
   "execution_count": 8,
   "outputs": [
    {
     "name": "stdout",
     "output_type": "stream",
     "text": [
      "CPU times: user 36.6 s, sys: 7.99 s, total: 44.5 s\n",
      "Wall time: 47.6 s\n"
     ]
    }
   ],
   "source": [
    "%%time\n",
    "merge_results(folder_path=OPEN_TENDER_EXTRACTION_OUTPUT,\n",
    "              result_file_name=f\"merged_results.parquet\",\n",
    "              src_name_suffix=\".parquet\",\n",
    "              remove_src_files=False\n",
    "              )"
   ],
   "metadata": {
    "collapsed": false
   }
  },
  {
   "cell_type": "code",
   "execution_count": 9,
   "outputs": [],
   "source": [
    "merged_info_df = pd.read_parquet(OPEN_TENDER_EXTRACTION_OUTPUT / \"merged_results.parquet\")"
   ],
   "metadata": {
    "collapsed": false
   }
  },
  {
   "cell_type": "code",
   "execution_count": 10,
   "outputs": [
    {
     "data": {
      "text/plain": "Index(['bidder.processingOrder', 'bidder.name', 'bidder.address.city',\n       'bidder.address.country', 'bidder.address.rawAddress', 'bidder.id',\n       'bidder.address.street', 'bidder.address.postcode',\n       'bidder.address.nuts', 'bidder.address.ot.nutscode', 'bidder.email',\n       'bidder.phone', 'bidder.isSme', 'bidder.address.url',\n       'bidder.mainActivities', 'bidder.buyerType', 'bidder.contactPoint',\n       'bidder.contactName', 'bidder.address.state'],\n      dtype='object')"
     },
     "execution_count": 10,
     "metadata": {},
     "output_type": "execute_result"
    }
   ],
   "source": [
    "merged_info_df.columns"
   ],
   "metadata": {
    "collapsed": false
   }
  },
  {
   "cell_type": "code",
   "execution_count": 11,
   "outputs": [
    {
     "name": "stdout",
     "output_type": "stream",
     "text": [
      "Total number of Bidders:  16168260\n",
      "Total number of Bidders as SME:  937629\n",
      "Percentage of SME Bidders: 5.8 %\n"
     ]
    }
   ],
   "source": [
    "number_of_bidders = len(merged_info_df)\n",
    "number_of_sme_bidders = len(merged_info_df[merged_info_df[\"bidder.isSme\"] == True])\n",
    "percentage_of_sme_bidders = round(100 * number_of_sme_bidders / number_of_bidders, 2)\n",
    "print(\"Total number of Bidders: \", number_of_bidders)\n",
    "print(\"Total number of Bidders as SME: \", number_of_sme_bidders)\n",
    "print(\"Percentage of SME Bidders:\", percentage_of_sme_bidders, \"%\")"
   ],
   "metadata": {
    "collapsed": false
   }
  }
 ],
 "metadata": {
  "kernelspec": {
   "display_name": "Python 3",
   "language": "python",
   "name": "python3"
  },
  "language_info": {
   "codemirror_mode": {
    "name": "ipython",
    "version": 2
   },
   "file_extension": ".py",
   "mimetype": "text/x-python",
   "name": "python",
   "nbconvert_exporter": "python",
   "pygments_lexer": "ipython2",
   "version": "2.7.6"
  }
 },
 "nbformat": 4,
 "nbformat_minor": 0
}
