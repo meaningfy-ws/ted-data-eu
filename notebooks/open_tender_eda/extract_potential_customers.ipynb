{
 "cells": [
  {
   "cell_type": "markdown",
   "source": [
    "\n",
    "# Build a database of potential customers from TED 2014-2022 data\n",
    "### Query the Contract Award Notices and get:\n",
    "* Name of the Contracting Authority/Entity\n",
    "* Title Scope of the procurement (Procedure & Lot)\n",
    "* The total value of the contract\n",
    "* CPV Codes + Additional CPV codes\n",
    "* Name of the Winner/Contractor\n",
    "\t* Company name\n",
    "\t* URL address\n",
    "\t* NUTS Code\n",
    "\t* Email\n",
    "\t* is SME\n",
    "\n",
    "### Statistical Information about the tenders\n",
    "* number of tenders received\n",
    "* number of tenders received from SMEs\n",
    "### Data of the conclusion of the contract"
   ],
   "metadata": {
    "collapsed": false
   }
  },
  {
   "cell_type": "markdown",
   "source": [
    "# Import libraries"
   ],
   "metadata": {
    "collapsed": false
   }
  },
  {
   "cell_type": "code",
   "execution_count": 1,
   "outputs": [],
   "source": [
    "import pathlib\n",
    "import pandas as pd\n",
    "import ijson\n",
    "from typing import List\n",
    "from concurrent.futures import ProcessPoolExecutor\n",
    "from resources import OPEN_TENDER_JSONS, OPEN_TENDER_EXTRACTION_OUTPUT"
   ],
   "metadata": {
    "collapsed": false
   }
  },
  {
   "cell_type": "markdown",
   "source": [
    "# Define constants for required fields per structure level"
   ],
   "metadata": {
    "collapsed": false
   }
  },
  {
   "cell_type": "code",
   "execution_count": 2,
   "outputs": [],
   "source": [
    "TENDER_FIELDS = [\"title\", \"estimatedPrice\", \"finalPrice\", \"country\", \"procedureType\", \"contractSignatureDate\"]\n",
    "LOT_FIELDS = [\"title\", \"contractSignatureDate\", \"estimatedPrice\"]\n",
    "BID_FIELDS = [\"isWinning\", \"price\", \"unitPrices\", \"isDisqualified\", \"disqualificationReason\", \"isConsortium\"]\n",
    "BIDDERS_FIELDS = [\"name\", \"address\", \"email\", \"contactPoint\", \"contactName\", \"phone\", \"isLeader\", \"isSME\"]\n",
    "BUYER_FIELDS = [\"name\", \"address\", \"email\", \"contactPoint\", \"contactName\", \"phone\"]\n",
    "NOT_NULL_FIELDS = [\"bidder_email\", \"buyer_name\", \"tender_title\", \"tender_finalPrice_netAmountEur\"]"
   ],
   "metadata": {
    "collapsed": false
   }
  },
  {
   "cell_type": "code",
   "execution_count": 3,
   "outputs": [],
   "source": [
    "OPEN_TENDER_JSONS_PATHS = [file_path for file_path in OPEN_TENDER_JSONS.iterdir() if\n",
    "                           file_path.is_file() and file_path.name.endswith(\".json\")]"
   ],
   "metadata": {
    "collapsed": false
   }
  },
  {
   "cell_type": "markdown",
   "source": [
    "# Define additional functions"
   ],
   "metadata": {
    "collapsed": false
   }
  },
  {
   "cell_type": "code",
   "execution_count": 4,
   "outputs": [],
   "source": [
    "def flatten_data(y):\n",
    "    out = {}\n",
    "\n",
    "    def flatten(x, name=''):\n",
    "        if type(x) is dict:\n",
    "            for a in x:\n",
    "                flatten(x[a], name + a + '_')\n",
    "        else:\n",
    "            out[name[:-1]] = x\n",
    "\n",
    "    flatten(y)\n",
    "    return out"
   ],
   "metadata": {
    "collapsed": false
   }
  },
  {
   "cell_type": "code",
   "execution_count": 5,
   "outputs": [],
   "source": [
    "def extract_fields_from_document(document: dict) -> list:\n",
    "    rows = []\n",
    "    row = {}\n",
    "    for field in TENDER_FIELDS:\n",
    "        row[\"tender_\" + field] = document.get(field, None)\n",
    "    if \"cpvs\" in document.keys():\n",
    "        row[\"tender_cpvs\"] = []\n",
    "        for cpv in document[\"cpvs\"]:\n",
    "            if (\"isMain\" in cpv.keys()) and (\"code\" in cpv.keys()):\n",
    "                if cpv[\"isMain\"]:\n",
    "                    row[\"tender_cpv_main\"] = cpv[\"code\"]\n",
    "                else:\n",
    "                    row[\"tender_cpvs\"].append(cpv[\"code\"])\n",
    "    if \"buyers\" in document.keys():\n",
    "        for buyer in document[\"buyers\"]:\n",
    "            for field in BUYER_FIELDS:\n",
    "                row[\"buyer_\" + field] = buyer.get(field, None)\n",
    "            if \"lots\" in document.keys():\n",
    "                for lot in document[\"lots\"]:\n",
    "                    for field in LOT_FIELDS:\n",
    "                        row[\"lot_\" + field] = lot.get(field, None)\n",
    "                    if \"bids\" in lot.keys():\n",
    "                        for bid in lot[\"bids\"]:\n",
    "                            for field in BID_FIELDS:\n",
    "                                row[\"bid_\" + field] = bid.get(field, None)\n",
    "                            if \"bidders\" in bid.keys():\n",
    "                                for bidder in bid[\"bidders\"]:\n",
    "                                    for field in bidder.keys():\n",
    "                                        row[\"bidder_\" + field] = bidder.get(field, None)\n",
    "                                    rows.append(flatten_data(row))\n",
    "    return rows"
   ],
   "metadata": {
    "collapsed": false
   }
  },
  {
   "cell_type": "code",
   "execution_count": 6,
   "outputs": [],
   "source": [
    "def filter_dataframe_fields(data: pd.DataFrame) -> pd.DataFrame:\n",
    "    for not_null_field in NOT_NULL_FIELDS:\n",
    "        if not_null_field in data.columns:\n",
    "            tmp_data = data[data[not_null_field].notnull()].copy()\n",
    "            del data\n",
    "            data = tmp_data\n",
    "    return data"
   ],
   "metadata": {
    "collapsed": false
   }
  },
  {
   "cell_type": "code",
   "execution_count": 7,
   "outputs": [],
   "source": [
    "def save_list_of_rows(list_of_rows: list, save_path: pathlib.Path, save_header: bool):\n",
    "    mode = 'a' if not save_header else 'w'\n",
    "    result_df = filter_dataframe_fields(pd.DataFrame(list_of_rows))\n",
    "    result_df.to_csv(save_path, index=False, header=save_header, mode=mode, sep=\";\")\n",
    "    del result_df\n"
   ],
   "metadata": {
    "collapsed": false
   }
  },
  {
   "cell_type": "code",
   "execution_count": 8,
   "outputs": [],
   "source": [
    "def extract_fields_from_file(json_file_path: pathlib.Path):\n",
    "    json_file = json_file_path.open(mode=\"rb\")\n",
    "    documents = ijson.items(json_file, 'item')\n",
    "    info_results = []\n",
    "    write_first_chunk = True\n",
    "    max_rows = 30000\n",
    "    result_csv_path = OPEN_TENDER_EXTRACTION_OUTPUT / f\"{json_file_path.stem}.csv\"\n",
    "    for document in documents:\n",
    "        result = extract_fields_from_document(document)\n",
    "        info_results.extend(result)\n",
    "        if len(info_results) > max_rows:\n",
    "            save_list_of_rows(info_results, result_csv_path, write_first_chunk)\n",
    "            write_first_chunk = False\n",
    "            del info_results\n",
    "            info_results = []\n",
    "    save_list_of_rows(info_results, result_csv_path, write_first_chunk)\n",
    "    json_file.close()"
   ],
   "metadata": {
    "collapsed": false
   }
  },
  {
   "cell_type": "code",
   "execution_count": 9,
   "outputs": [],
   "source": [
    "def extract_fields_from_multiple_files(json_file_paths: List[pathlib.Path]):\n",
    "    with ProcessPoolExecutor(max_workers=24) as executor:\n",
    "        futures = [executor.submit(extract_fields_from_file, json_file_path) for json_file_path in json_file_paths]\n",
    "        for future in futures:\n",
    "            future.result()"
   ],
   "metadata": {
    "collapsed": false
   }
  },
  {
   "cell_type": "markdown",
   "source": [
    "# Extract required fields from OpenTender JSONs"
   ],
   "metadata": {
    "collapsed": false
   }
  },
  {
   "cell_type": "code",
   "execution_count": 10,
   "outputs": [
    {
     "name": "stdout",
     "output_type": "stream",
     "text": [
      "CPU times: user 22.8 ms, sys: 60.2 ms, total: 83.1 ms\n",
      "Wall time: 4min 19s\n"
     ]
    }
   ],
   "source": [
    "%%time\n",
    "extract_fields_from_multiple_files(OPEN_TENDER_JSONS_PATHS)"
   ],
   "metadata": {
    "collapsed": false
   }
  },
  {
   "cell_type": "markdown",
   "source": [
    "# Merge result CSVs into a single CSV"
   ],
   "metadata": {
    "collapsed": false
   }
  },
  {
   "cell_type": "code",
   "execution_count": 11,
   "outputs": [],
   "source": [
    "OPEN_TENDER_CSV_PATHS = [file_path for file_path in OPEN_TENDER_EXTRACTION_OUTPUT.iterdir() if\n",
    "                         file_path.is_file() and file_path.name.endswith(\".csv\")]"
   ],
   "metadata": {
    "collapsed": false
   }
  },
  {
   "cell_type": "code",
   "execution_count": 12,
   "outputs": [
    {
     "name": "stderr",
     "output_type": "stream",
     "text": [
      "/tmp/ipykernel_29540/2800000600.py:2: DtypeWarning: Columns (10,22,25,26,27,35,36,48,49,51,53) have mixed types. Specify dtype option on import or set low_memory=False.\n",
      "  [pd.read_csv(csv_file_path, on_bad_lines='skip', sep=\";\") for csv_file_path in OPEN_TENDER_CSV_PATHS], axis=0,\n",
      "/tmp/ipykernel_29540/2800000600.py:2: DtypeWarning: Columns (18,20,22,57) have mixed types. Specify dtype option on import or set low_memory=False.\n",
      "  [pd.read_csv(csv_file_path, on_bad_lines='skip', sep=\";\") for csv_file_path in OPEN_TENDER_CSV_PATHS], axis=0,\n",
      "/tmp/ipykernel_29540/2800000600.py:2: DtypeWarning: Columns (19,21) have mixed types. Specify dtype option on import or set low_memory=False.\n",
      "  [pd.read_csv(csv_file_path, on_bad_lines='skip', sep=\";\") for csv_file_path in OPEN_TENDER_CSV_PATHS], axis=0,\n",
      "/tmp/ipykernel_29540/2800000600.py:2: DtypeWarning: Columns (5,24,26) have mixed types. Specify dtype option on import or set low_memory=False.\n",
      "  [pd.read_csv(csv_file_path, on_bad_lines='skip', sep=\";\") for csv_file_path in OPEN_TENDER_CSV_PATHS], axis=0,\n",
      "/tmp/ipykernel_29540/2800000600.py:2: DtypeWarning: Columns (10,23,24,25,26) have mixed types. Specify dtype option on import or set low_memory=False.\n",
      "  [pd.read_csv(csv_file_path, on_bad_lines='skip', sep=\";\") for csv_file_path in OPEN_TENDER_CSV_PATHS], axis=0,\n",
      "/tmp/ipykernel_29540/2800000600.py:2: DtypeWarning: Columns (7,8,9,10,11,12,13,14,15,16,17,18,19,21,23,24,25,26,27,29,30,31,32,33,34,35,36,37,38,39,40,41,42,43,44,45,46,47,48,49,50,51,52,53,54,55,56,57) have mixed types. Specify dtype option on import or set low_memory=False.\n",
      "  [pd.read_csv(csv_file_path, on_bad_lines='skip', sep=\";\") for csv_file_path in OPEN_TENDER_CSV_PATHS], axis=0,\n",
      "/tmp/ipykernel_29540/2800000600.py:2: DtypeWarning: Columns (7,8,9,10,11,12,13,14,15,16,17,18,19,21,22,23,24,25,26,27,29,30,31,32,33,34,35,36,37,38,39,40,41,42,43,44,45,46,47,48,49,50,51,52,53,54,55,56,57) have mixed types. Specify dtype option on import or set low_memory=False.\n",
      "  [pd.read_csv(csv_file_path, on_bad_lines='skip', sep=\";\") for csv_file_path in OPEN_TENDER_CSV_PATHS], axis=0,\n",
      "/tmp/ipykernel_29540/2800000600.py:2: DtypeWarning: Columns (7,8,9,10,11,12,13,14,15,16,17,18,19,20,21,22,23,24,25,26,27,29,30,31,32,33,34,35,36,37,38,39,40,41,42,43,44,45,46,47,48,49,50,51,52,53,54,55,56,57) have mixed types. Specify dtype option on import or set low_memory=False.\n",
      "  [pd.read_csv(csv_file_path, on_bad_lines='skip', sep=\";\") for csv_file_path in OPEN_TENDER_CSV_PATHS], axis=0,\n",
      "/tmp/ipykernel_29540/2800000600.py:2: DtypeWarning: Columns (7,8,9,10,11,12,13,14,15,16,17,18,19,21,22,23,24,25,26,27,29,30,31,32,33,34,35,36,37,38,39,40,41,42,43,44,45,46,47,48,49,50,51,52,53,54,55,56,57,60,62,64) have mixed types. Specify dtype option on import or set low_memory=False.\n",
      "  [pd.read_csv(csv_file_path, on_bad_lines='skip', sep=\";\") for csv_file_path in OPEN_TENDER_CSV_PATHS], axis=0,\n",
      "/tmp/ipykernel_29540/2800000600.py:2: DtypeWarning: Columns (7,8,9,10,11,12,13,14,15,16,17,18,19,21,22,23,24,25,26,27,28,29,30,31,32,33,34,35,36,37,38,39,40,41,42,43,44,45,46,47,48,49,50,51,52,53,54,55,56,57,58,59,60,61,62,63,64) have mixed types. Specify dtype option on import or set low_memory=False.\n",
      "  [pd.read_csv(csv_file_path, on_bad_lines='skip', sep=\";\") for csv_file_path in OPEN_TENDER_CSV_PATHS], axis=0,\n",
      "/tmp/ipykernel_29540/2800000600.py:2: DtypeWarning: Columns (7,8,9,10,11,12,13,14,15,16,17,18,19,21,22,23,24,25,26,27,28,29,30,31,32,33,34,35,36,37,38,39,40,41,42,43,44,45,46,47,48,49,50,51,52,53,54,55,56,57,60,62,63,64) have mixed types. Specify dtype option on import or set low_memory=False.\n",
      "  [pd.read_csv(csv_file_path, on_bad_lines='skip', sep=\";\") for csv_file_path in OPEN_TENDER_CSV_PATHS], axis=0,\n",
      "/tmp/ipykernel_29540/2800000600.py:2: DtypeWarning: Columns (3,4,5,6,7,8,9,11,13,14,15,16,17,19,20,21,22,23,24,25,26,27,28,29,30,31,32,33,34,35,36,37,38,39,40,41,42,43,44,45,46,47,48,49,50,51,53,55,56,57,58,60,61,62,63,64,65,66,67,68,69,70,71,72,73,74,75,76,77,78,79,80) have mixed types. Specify dtype option on import or set low_memory=False.\n",
      "  [pd.read_csv(csv_file_path, on_bad_lines='skip', sep=\";\") for csv_file_path in OPEN_TENDER_CSV_PATHS], axis=0,\n",
      "/tmp/ipykernel_29540/2800000600.py:2: DtypeWarning: Columns (5,9,17,18,19,20,26,40,42,43,47,56,59,61) have mixed types. Specify dtype option on import or set low_memory=False.\n",
      "  [pd.read_csv(csv_file_path, on_bad_lines='skip', sep=\";\") for csv_file_path in OPEN_TENDER_CSV_PATHS], axis=0,\n"
     ]
    }
   ],
   "source": [
    "merged_info_df = pd.concat(\n",
    "    [pd.read_csv(csv_file_path, on_bad_lines='skip', sep=\";\") for csv_file_path in OPEN_TENDER_CSV_PATHS], axis=0,\n",
    "    ignore_index=True).reset_index(drop=True)"
   ],
   "metadata": {
    "collapsed": false
   }
  },
  {
   "cell_type": "code",
   "execution_count": 13,
   "outputs": [],
   "source": [
    "merged_info_df.to_csv(OPEN_TENDER_EXTRACTION_OUTPUT / \"merged_results.csv\")"
   ],
   "metadata": {
    "collapsed": false
   }
  },
  {
   "cell_type": "markdown",
   "source": [
    "# Compute SME bidders statistics:"
   ],
   "metadata": {
    "collapsed": false
   }
  },
  {
   "cell_type": "code",
   "execution_count": 38,
   "outputs": [
    {
     "name": "stdout",
     "output_type": "stream",
     "text": [
      "Total number of Bidders:  4465528\n",
      "Total number of Bidders as SME:  18531\n",
      "Percentage of SME Bidders: 0.41 %\n"
     ]
    }
   ],
   "source": [
    "number_of_bidders = len(merged_info_df)\n",
    "number_of_sme_bidders = len(merged_info_df[merged_info_df[\"bidder_isSme\"]==True])\n",
    "percentage_of_sme_bidders = round(100*number_of_sme_bidders/number_of_bidders,2)\n",
    "print(\"Total number of Bidders: \",number_of_bidders)\n",
    "print(\"Total number of Bidders as SME: \",number_of_sme_bidders)\n",
    "print(\"Percentage of SME Bidders:\", percentage_of_sme_bidders, \"%\")"
   ],
   "metadata": {
    "collapsed": false
   }
  }
 ],
 "metadata": {
  "kernelspec": {
   "display_name": "Python 3",
   "language": "python",
   "name": "python3"
  },
  "language_info": {
   "codemirror_mode": {
    "name": "ipython",
    "version": 2
   },
   "file_extension": ".py",
   "mimetype": "text/x-python",
   "name": "python",
   "nbconvert_exporter": "python",
   "pygments_lexer": "ipython2",
   "version": "2.7.6"
  }
 },
 "nbformat": 4,
 "nbformat_minor": 0
}
