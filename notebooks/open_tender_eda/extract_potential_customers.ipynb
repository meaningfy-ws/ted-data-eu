{
 "cells": [
  {
   "cell_type": "markdown",
   "source": [
    "\n",
    "# Build a database of potential customers from TED 2014-2022 data\n",
    "### Query the Contract Award Notices and get:\n",
    "* Name of the Contracting Authority/Entity\n",
    "* Title Scope of the procurement (Procedure & Lot)\n",
    "* The total value of the contract\n",
    "* CPV Codes + Additional CPV codes\n",
    "* Name of the Winner/Contractor\n",
    "\t* Company name\n",
    "\t* URL address\n",
    "\t* NUTS Code\n",
    "\t* Email\n",
    "\t* is SME\n",
    "\n",
    "### Statistical Information about the tenders\n",
    "* number of tenders received\n",
    "* number of tenders received from SMEs\n",
    "### Data of the conclusion of the contract"
   ],
   "metadata": {
    "collapsed": false
   }
  },
  {
   "cell_type": "markdown",
   "source": [
    "# Import libraries"
   ],
   "metadata": {
    "collapsed": false
   }
  },
  {
   "cell_type": "code",
   "execution_count": 1,
   "outputs": [],
   "source": [
    "import pathlib\n",
    "import pandas as pd\n",
    "import numpy as np\n",
    "import ijson\n",
    "from typing import List\n",
    "from concurrent.futures import ProcessPoolExecutor\n",
    "from resources import OPEN_TENDER_JSONS, OPEN_TENDER_EXTRACTION_OUTPUT"
   ],
   "metadata": {
    "collapsed": false
   }
  },
  {
   "cell_type": "markdown",
   "source": [
    "# Define constants for required fields per structure level"
   ],
   "metadata": {
    "collapsed": false
   }
  },
  {
   "cell_type": "code",
   "execution_count": 2,
   "outputs": [],
   "source": [
    "TENDER_FIELDS = [\"title\", \"estimatedPrice\", \"finalPrice\", \"country\", \"procedureType\", \"contractSignatureDate\"]\n",
    "LOT_FIELDS = [\"title\", \"contractSignatureDate\", \"estimatedPrice\"]\n",
    "BID_FIELDS = [\"isWinning\", \"price\", \"unitPrices\", \"isDisqualified\", \"disqualificationReason\", \"isConsortium\"]\n",
    "BIDDERS_FIELDS = [\"name\", \"address\", \"email\", \"contactPoint\", \"contactName\", \"phone\", \"isLeader\", \"isSme\"]\n",
    "BUYER_FIELDS = [\"name\", \"address\", \"email\", \"contactPoint\", \"contactName\", \"phone\"]\n",
    "NOT_NULL_FIELDS = [\"bidder_email\", \"buyer_name\", \"tender_title\", \"tender_finalPrice_netAmountEur\"]"
   ],
   "metadata": {
    "collapsed": false
   }
  },
  {
   "cell_type": "code",
   "execution_count": 3,
   "outputs": [],
   "source": [
    "OPEN_TENDER_JSONS_PATHS = [file_path for file_path in OPEN_TENDER_JSONS.iterdir() if\n",
    "                           file_path.is_file() and file_path.name.endswith(\".json\")]"
   ],
   "metadata": {
    "collapsed": false
   }
  },
  {
   "cell_type": "markdown",
   "source": [
    "# Define additional functions"
   ],
   "metadata": {
    "collapsed": false
   }
  },
  {
   "cell_type": "code",
   "execution_count": 4,
   "outputs": [],
   "source": [
    "def flatten_data(y):\n",
    "    out = {}\n",
    "\n",
    "    def flatten(x, name=''):\n",
    "        if type(x) is dict:\n",
    "            for a in x:\n",
    "                flatten(x[a], name + a + '_')\n",
    "        else:\n",
    "            out[name[:-1]] = x\n",
    "\n",
    "    flatten(y)\n",
    "    return out"
   ],
   "metadata": {
    "collapsed": false
   }
  },
  {
   "cell_type": "code",
   "execution_count": 5,
   "outputs": [],
   "source": [
    "def extract_fields_from_document(document: dict) -> list:\n",
    "    rows = []\n",
    "    row = {}\n",
    "    for field in TENDER_FIELDS:\n",
    "        row[\"tender_\" + field] = document.get(field, None)\n",
    "    if \"cpvs\" in document.keys():\n",
    "        cpv_count = 1\n",
    "        for cpv in document[\"cpvs\"]:\n",
    "            if (\"isMain\" in cpv.keys()) and (\"code\" in cpv.keys()):\n",
    "                if cpv[\"isMain\"]:\n",
    "                    row[\"tender_cpv_main\"] = cpv[\"code\"]\n",
    "\n",
    "            row[f\"tender_cpvs_{cpv_count}\"]=cpv[\"code\"]\n",
    "            cpv_count+=1\n",
    "    if \"buyers\" in document.keys():\n",
    "        for buyer in document[\"buyers\"]:\n",
    "            for field in BUYER_FIELDS:\n",
    "                row[\"buyer_\" + field] = buyer.get(field, None)\n",
    "            if \"lots\" in document.keys():\n",
    "                for lot in document[\"lots\"]:\n",
    "                    for field in LOT_FIELDS:\n",
    "                        row[\"lot_\" + field] = lot.get(field, None)\n",
    "                    if \"bids\" in lot.keys():\n",
    "                        for bid in lot[\"bids\"]:\n",
    "                            for field in BID_FIELDS:\n",
    "                                row[\"bid_\" + field] = bid.get(field, None)\n",
    "                            if \"bidders\" in bid.keys():\n",
    "                                for bidder in bid[\"bidders\"]:\n",
    "                                    for field in bidder.keys():\n",
    "                                        row[\"bidder_\" + field] = bidder.get(field, None)\n",
    "                                    rows.append(flatten_data(row))\n",
    "    return rows"
   ],
   "metadata": {
    "collapsed": false
   }
  },
  {
   "cell_type": "code",
   "execution_count": 6,
   "outputs": [],
   "source": [
    "def filter_dataframe_fields(data: pd.DataFrame) -> pd.DataFrame:\n",
    "    for not_null_field in NOT_NULL_FIELDS:\n",
    "        if not_null_field in data.columns:\n",
    "            tmp_data = data[data[not_null_field].notnull()].copy()\n",
    "            del data\n",
    "            data = tmp_data\n",
    "    return data"
   ],
   "metadata": {
    "collapsed": false
   }
  },
  {
   "cell_type": "code",
   "execution_count": 7,
   "outputs": [],
   "source": [
    "def save_list_of_rows(list_of_rows: list, save_path: pathlib.Path, save_header: bool):\n",
    "    append = not save_header\n",
    "    result_df = filter_dataframe_fields(pd.DataFrame(list_of_rows))\n",
    "    float_fields = [\"bid_price_netAmount\",\n",
    "                    \"bid_price_netAmountEur\",\n",
    "                    \"bid_price_netAmountNational\",\n",
    "                    \"lot_estimatedPrice_netAmount\",\n",
    "                    \"lot_estimatedPrice_netAmountEur\",\n",
    "                    \"lot_estimatedPrice_netAmountNational\",\n",
    "                    \"lot_estimatedPrice_amountWithVat\",\n",
    "                    \"tender_estimatedPrice_netAmount\",\n",
    "                    \"tender_finalPrice_amountWithVat\",\n",
    "                    \"tender_estimatedPrice_netAmountEur\",\n",
    "                    \"bid_price_amountWithVat\",\n",
    "                    \"tender_estimatedPrice_netAmountNational\",\n",
    "                    \"tender_finalPrice_netAmount\",\n",
    "                    \"tender_finalPrice_netAmountNational\",\n",
    "                    \"bid_price_minNetAmount\",\n",
    "                    \"bid_price_maxNetAmount\",\n",
    "                    \"bid_price_vat\",\n",
    "                    \"tender_finalPrice_netAmountEur\",\n",
    "                    \"tender_estimatedPrice_amountWithVat\"\n",
    "                    ]\n",
    "    for column_name in result_df.columns:\n",
    "        if column_name in float_fields:\n",
    "             if column_name in list(result_df.columns.tolist()):\n",
    "                result_df[column_name] = result_df[column_name].astype(dtype=np.float32)\n",
    "        else:\n",
    "            result_df[column_name] = result_df[column_name].astype(dtype=str)\n",
    "    result_df.to_parquet(save_path, index=None, append=append)\n",
    "    del result_df"
   ],
   "metadata": {
    "collapsed": false
   }
  },
  {
   "cell_type": "code",
   "execution_count": 8,
   "outputs": [],
   "source": [
    "def merge_results(folder_path: pathlib.Path, result_file_name: str, src_name_prefix: str = \"\",\n",
    "                  src_name_suffix: str = \"\", remove_src_files: bool = True):\n",
    "    selected_paths = [file_path for file_path in folder_path.iterdir()\n",
    "                      if file_path.is_file() and file_path.name.endswith(src_name_suffix) and file_path.name.startswith(\n",
    "            src_name_prefix)]\n",
    "\n",
    "    merged_df = pd.concat([pd.read_parquet(file_path) for file_path in selected_paths], axis=0,\n",
    "                          ignore_index=True).reset_index(drop=True)\n",
    "    merged_df.to_parquet(folder_path / result_file_name, index=None)\n",
    "    del merged_df\n",
    "    if remove_src_files:\n",
    "        for file_path in selected_paths:\n",
    "            file_path.unlink()\n"
   ],
   "metadata": {
    "collapsed": false
   }
  },
  {
   "cell_type": "code",
   "execution_count": 9,
   "outputs": [],
   "source": [
    "def extract_fields_from_file(json_file_path: pathlib.Path):\n",
    "    json_file = json_file_path.open(mode=\"rb\")\n",
    "    documents = ijson.items(json_file, 'item')\n",
    "    info_results = []\n",
    "    write_first_chunk = True\n",
    "    max_rows = 100000\n",
    "    file_part = 0\n",
    "    for document in documents:\n",
    "        result = extract_fields_from_document(document)\n",
    "        info_results.extend(result)\n",
    "        if len(info_results) > max_rows:\n",
    "            result_path = OPEN_TENDER_EXTRACTION_OUTPUT / f\"{json_file_path.stem}_part_{file_part}.parquet\"\n",
    "            save_list_of_rows(info_results, result_path, write_first_chunk)\n",
    "            file_part+=1\n",
    "            # write_first_chunk = False\n",
    "            del info_results\n",
    "            info_results = []\n",
    "    result_path = OPEN_TENDER_EXTRACTION_OUTPUT / f\"{json_file_path.stem}_part_{file_part}.parquet\"\n",
    "    save_list_of_rows(info_results, result_path, write_first_chunk)\n",
    "    json_file.close()\n",
    "    merge_results(folder_path=OPEN_TENDER_EXTRACTION_OUTPUT,\n",
    "                  result_file_name=f\"{json_file_path.stem}.parquet\",\n",
    "                  src_name_prefix=json_file_path.stem,\n",
    "                  src_name_suffix=\".parquet\")"
   ],
   "metadata": {
    "collapsed": false
   }
  },
  {
   "cell_type": "code",
   "execution_count": 10,
   "outputs": [],
   "source": [
    "def extract_fields_from_multiple_files(json_file_paths: List[pathlib.Path]):\n",
    "    with ProcessPoolExecutor(max_workers=24) as executor:\n",
    "        futures = [executor.submit(extract_fields_from_file, json_file_path) for json_file_path in json_file_paths]\n",
    "        for future in futures:\n",
    "            future.result()"
   ],
   "metadata": {
    "collapsed": false
   }
  },
  {
   "cell_type": "markdown",
   "source": [
    "# Extract required fields from OpenTender JSONs"
   ],
   "metadata": {
    "collapsed": false
   }
  },
  {
   "cell_type": "code",
   "execution_count": 11,
   "outputs": [
    {
     "name": "stdout",
     "output_type": "stream",
     "text": [
      "CPU times: user 18.6 ms, sys: 64.3 ms, total: 82.9 ms\n",
      "Wall time: 5min\n"
     ]
    }
   ],
   "source": [
    "%%time\n",
    "extract_fields_from_multiple_files(OPEN_TENDER_JSONS_PATHS)"
   ],
   "metadata": {
    "collapsed": false
   }
  },
  {
   "cell_type": "markdown",
   "source": [
    "# Merge result into a single file"
   ],
   "metadata": {
    "collapsed": false
   }
  },
  {
   "cell_type": "code",
   "execution_count": null,
   "outputs": [],
   "source": [
    "merge_results(folder_path=OPEN_TENDER_EXTRACTION_OUTPUT,\n",
    "              result_file_name=f\"merged_results.parquet\",\n",
    "              src_name_suffix=\".parquet\",\n",
    "              remove_src_files=False\n",
    "              )"
   ],
   "metadata": {
    "collapsed": false,
    "pycharm": {
     "is_executing": true
    }
   }
  },
  {
   "cell_type": "code",
   "execution_count": null,
   "outputs": [],
   "source": [
    "merged_info_df = pd.read_parquet(OPEN_TENDER_EXTRACTION_OUTPUT / \"merged_results.parquet\")"
   ],
   "metadata": {
    "collapsed": false,
    "pycharm": {
     "is_executing": true
    }
   }
  },
  {
   "cell_type": "markdown",
   "source": [
    "# Compute SME bidders statistics:"
   ],
   "metadata": {
    "collapsed": false
   }
  },
  {
   "cell_type": "code",
   "execution_count": null,
   "outputs": [],
   "source": [
    "number_of_bidders = len(merged_info_df)\n",
    "number_of_sme_bidders = len(merged_info_df[merged_info_df[\"bidder_isSme\"] == True])\n",
    "percentage_of_sme_bidders = round(100 * number_of_sme_bidders / number_of_bidders, 2)\n",
    "print(\"Total number of Bidders: \", number_of_bidders)\n",
    "print(\"Total number of Bidders as SME: \", number_of_sme_bidders)\n",
    "print(\"Percentage of SME Bidders:\", percentage_of_sme_bidders, \"%\")"
   ],
   "metadata": {
    "collapsed": false,
    "pycharm": {
     "is_executing": true
    }
   }
  },
  {
   "cell_type": "code",
   "execution_count": null,
   "outputs": [],
   "source": [
    "len(merged_info_df.columns)"
   ],
   "metadata": {
    "collapsed": false,
    "pycharm": {
     "is_executing": true
    }
   }
  }
 ],
 "metadata": {
  "kernelspec": {
   "display_name": "Python 3",
   "language": "python",
   "name": "python3"
  },
  "language_info": {
   "codemirror_mode": {
    "name": "ipython",
    "version": 2
   },
   "file_extension": ".py",
   "mimetype": "text/x-python",
   "name": "python",
   "nbconvert_exporter": "python",
   "pygments_lexer": "ipython2",
   "version": "2.7.6"
  }
 },
 "nbformat": 4,
 "nbformat_minor": 0
}
