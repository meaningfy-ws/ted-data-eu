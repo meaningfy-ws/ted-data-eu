{
 "cells": [
  {
   "cell_type": "markdown",
   "source": [
    "\n",
    "# Build a database of potential customers from TED 2014-2022 data\n",
    "### Query the Contract Award Notices and get:\n",
    "* Name of the Contracting Authority/Entity\n",
    "* Title Scope of the procurement (Procedure & Lot)\n",
    "* The total value of the contract\n",
    "* CPV Codes + Additional CPV codes\n",
    "* Name of the Winner/Contractor\n",
    "\t* Company name\n",
    "\t* URL address\n",
    "\t* NUTS Code\n",
    "\t* Email\n",
    "\t* is SME\n",
    "\n",
    "### Statistical Information about the tenders\n",
    "* number of tenders received\n",
    "* number of tenders received from SMEs\n",
    "### Data of the conclusion of the contract"
   ],
   "metadata": {
    "collapsed": false
   }
  },
  {
   "cell_type": "code",
   "execution_count": 2,
   "outputs": [
    {
     "data": {
      "text/plain": "'/mnt/c/Users/capitan/Desktop/WORKS/MEANING/ted-data-eu/notebooks/open_tender_eda'"
     },
     "execution_count": 2,
     "metadata": {},
     "output_type": "execute_result"
    }
   ],
   "source": [
    "import os\n",
    "os.getcwd()"
   ],
   "metadata": {
    "collapsed": false
   }
  }
 ],
 "metadata": {
  "kernelspec": {
   "display_name": "Python 3",
   "language": "python",
   "name": "python3"
  },
  "language_info": {
   "codemirror_mode": {
    "name": "ipython",
    "version": 2
   },
   "file_extension": ".py",
   "mimetype": "text/x-python",
   "name": "python",
   "nbconvert_exporter": "python",
   "pygments_lexer": "ipython2",
   "version": "2.7.6"
  }
 },
 "nbformat": 4,
 "nbformat_minor": 0
}
